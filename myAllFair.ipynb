{
 "cells": [
  {
   "cell_type": "code",
   "execution_count": 1,
   "id": "b361012f-5aad-41e1-99dd-f1d5a1a0a394",
   "metadata": {},
   "outputs": [],
   "source": [
    "#import classes with its functions from pynb\n",
    "from myAllAssignments import myAllAssignments"
   ]
  },
  {
   "cell_type": "code",
   "execution_count": 2,
   "id": "e85abf89-7425-4dd6-913b-73ee6872d041",
   "metadata": {},
   "outputs": [
    {
     "name": "stdin",
     "output_type": "stream",
     "text": [
      "Enter the BMI Index: 74\n"
     ]
    },
    {
     "name": "stdout",
     "output_type": "stream",
     "text": [
      "Very Overweight: Class 3 Obese\n"
     ]
    }
   ],
   "source": [
    "#call myBMI() function\n",
    "myAllAssignments.myBMI()"
   ]
  },
  {
   "cell_type": "code",
   "execution_count": 3,
   "id": "fc4b9129-8cdd-4a5a-8fb0-14667b8196da",
   "metadata": {},
   "outputs": [
    {
     "name": "stdout",
     "output_type": "stream",
     "text": [
      "Sub-fields in AI are:\n",
      "Machine Learning\n",
      "Neural Networks\n",
      "Vision\n",
      "Robotics\n",
      "Speech Processing\n",
      "Natural Language Processing\n"
     ]
    }
   ],
   "source": [
    "#call mySubfields() function\n",
    "myAllAssignments.mySubfields()"
   ]
  },
  {
   "cell_type": "code",
   "execution_count": 4,
   "id": "867cb702-71aa-41ee-b2dc-d772aff5f3a9",
   "metadata": {},
   "outputs": [
    {
     "name": "stdin",
     "output_type": "stream",
     "text": [
      "Enter a number:  48\n"
     ]
    },
    {
     "name": "stdout",
     "output_type": "stream",
     "text": [
      "48 is Even number\n"
     ]
    }
   ],
   "source": [
    "#call oddEven() function\n",
    "myAllAssignments.OddEven()"
   ]
  },
  {
   "cell_type": "code",
   "execution_count": 5,
   "id": "431af1d8-7620-4c76-8675-fe9fc380b529",
   "metadata": {},
   "outputs": [
    {
     "name": "stdin",
     "output_type": "stream",
     "text": [
      "Your Gender Female\n",
      "Your age: 39\n"
     ]
    },
    {
     "name": "stdout",
     "output_type": "stream",
     "text": [
      "ELIGIBLE\n"
     ]
    }
   ],
   "source": [
    "#calll Eligible() function \n",
    "myAllAssignments.Eligible()"
   ]
  },
  {
   "cell_type": "code",
   "execution_count": 9,
   "id": "941ac2b5-5721-49f9-99b9-aa827438721c",
   "metadata": {},
   "outputs": [
    {
     "name": "stdout",
     "output_type": "stream",
     "text": [
      "Percentage =  65.0\n"
     ]
    }
   ],
   "source": [
    "#call calPercentage() function with parameters\n",
    "myAllAssignments.calPercentage(67,43,99,28,88)\n",
    "pers = myAllAssignments.calPercentage(67,43,99,28,88)\n",
    "print (\"Percentage = \", pers)"
   ]
  },
  {
   "cell_type": "code",
   "execution_count": 12,
   "id": "5b8d132d-5235-4437-8b67-205fba96d860",
   "metadata": {},
   "outputs": [
    {
     "name": "stdout",
     "output_type": "stream",
     "text": [
      "Area =  1400.0\n"
     ]
    }
   ],
   "source": [
    "#call myTriangeArea() function\n",
    "area = myAllAssignments.myTriangleArea(70,40)\n",
    "print(\"Area = \",area)"
   ]
  },
  {
   "cell_type": "code",
   "execution_count": 13,
   "id": "b3ab7dee-17cb-4765-a4b7-298585cc7c1c",
   "metadata": {},
   "outputs": [
    {
     "name": "stdout",
     "output_type": "stream",
     "text": [
      "Perimeter:  142\n"
     ]
    }
   ],
   "source": [
    "#call myTriangePerimeter() function \n",
    "peri = myAllAssignments.myTrianglePerimeter(70,40,32)\n",
    "print(\"Perimeter: \",peri)"
   ]
  },
  {
   "cell_type": "code",
   "execution_count": null,
   "id": "a9939de0-47b6-4d2d-b21f-c16fad87c296",
   "metadata": {},
   "outputs": [],
   "source": []
  }
 ],
 "metadata": {
  "kernelspec": {
   "display_name": "Python 3 (ipykernel)",
   "language": "python",
   "name": "python3"
  },
  "language_info": {
   "codemirror_mode": {
    "name": "ipython",
    "version": 3
   },
   "file_extension": ".py",
   "mimetype": "text/x-python",
   "name": "python",
   "nbconvert_exporter": "python",
   "pygments_lexer": "ipython3",
   "version": "3.12.7"
  }
 },
 "nbformat": 4,
 "nbformat_minor": 5
}
